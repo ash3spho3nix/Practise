{
 "cells": [
  {
   "cell_type": "code",
   "execution_count": 45,
   "metadata": {},
   "outputs": [],
   "source": [
    "import numpy as np\n",
    "import math\n",
    "import random\n",
    "from matplotlib import pyplot as plt\n"
   ]
  },
  {
   "cell_type": "code",
   "execution_count": 46,
   "metadata": {},
   "outputs": [],
   "source": [
    "def generate_random(n1,n2):\n",
    "    if n1>n2:\n",
    "        print('first value should be smaller')\n",
    "        return 0\n",
    "    r = random.uniform(0,1)\n",
    "    return n1+(n2-n1)*r"
   ]
  },
  {
   "cell_type": "markdown",
   "metadata": {},
   "source": [
    "Monte carlo simulation to find area of circle"
   ]
  },
  {
   "cell_type": "code",
   "execution_count": 47,
   "metadata": {},
   "outputs": [],
   "source": [
    "def dist(x,y):\n",
    "    return math.sqrt(x**2+y**2)"
   ]
  },
  {
   "cell_type": "code",
   "execution_count": 54,
   "metadata": {},
   "outputs": [
    {
     "name": "stdout",
     "output_type": "stream",
     "text": [
      "2.4 10\n",
      "3.2 100\n",
      "3.136 1000\n",
      "3.1744 10000\n",
      "3.14416 100000\n",
      "3.142152 1000000\n"
     ]
    },
    {
     "data": {
      "text/plain": [
       "[<matplotlib.lines.Line2D at 0x2706e644048>]"
      ]
     },
     "execution_count": 54,
     "metadata": {},
     "output_type": "execute_result"
    },
    {
     "data": {
      "image/png": "[encoded data removed]",
      "text/plain": [
       "<Figure size 432x288 with 1 Axes>"
      ]
     },
     "metadata": {
      "needs_background": "light"
     },
     "output_type": "display_data"
    }
   ],
   "source": [
    "# finding value of pi by monte carlo method\n",
    "R=1\n",
    "Z=[]\n",
    "for k in range(1,7):\n",
    "    N=10**k\n",
    "    z=0\n",
    "    x=[]\n",
    "    y=[]\n",
    "    d=[]\n",
    "#generate random points inside the sqaure\n",
    "    for i in range(0,N):\n",
    "        xi = generate_random(-R,R)\n",
    "        yi= generate_random(-R,R)\n",
    "        x.append(xi)\n",
    "        y.append(yi)\n",
    "        d.append(dist(xi,yi))\n",
    "    \n",
    "        if d[i]<R:\n",
    "            z=z+1\n",
    "    print(4*z/N,N)\n",
    "    Z.append(4*z/N)\n",
    "plt.plot(range(1,7),Z)"
   ]
  },
  {
   "cell_type": "code",
   "execution_count": 79,
   "metadata": {},
   "outputs": [],
   "source": [
    "def f_of_x(x):\n",
    "    \"\"\"\n",
    "    This is the main function we want to integrate over.\n",
    "    Args:\n",
    "    - x (float) : input to function; must be in radians\n",
    "    Return:\n",
    "    - output of function f(x) (float)\n",
    "    \"\"\"\n",
    "    return ((math.e)**(-1*x))/(1+(x-1)**2)"
   ]
  },
  {
   "cell_type": "code",
   "execution_count": 97,
   "metadata": {},
   "outputs": [
    {
     "data": {
      "text/plain": [
       "0.6960918269312018"
      ]
     },
     "execution_count": 97,
     "metadata": {},
     "output_type": "execute_result"
    }
   ],
   "source": [
    "#Numerical integration\n",
    "X=100\n",
    "N=100000\n",
    "def numerical_int(num_samples,x_low,x_high,step):\n",
    "    x=[]\n",
    "    del_f = 0\n",
    "    for i in range(N):\n",
    "        del_f = del_f + (f_of_x(x_low+step/2))*step  \n",
    "        x_low += step\n",
    "    return del_f\n",
    "\n",
    "numerical_int(N,0,100,0.01)"
   ]
  },
  {
   "cell_type": "code",
   "execution_count": 98,
   "metadata": {},
   "outputs": [
    {
     "name": "stdout",
     "output_type": "stream",
     "text": [
      "The numerical result is 0.696091 (+-5.08359e-14)\n"
     ]
    }
   ],
   "source": [
    "from scipy.integrate import quad\n",
    "\n",
    "res, err = quad(f_of_x, 0, 10)\n",
    "\n",
    "print(\"The numerical result is {:f} (+-{:g})\".format(res, err))"
   ]
  },
  {
   "cell_type": "code",
   "execution_count": 95,
   "metadata": {},
   "outputs": [],
   "source": [
    "#Monte carlo integration\n",
    "def monte_carlo(num_samples):\n",
    "    lower_bound = 0\n",
    "    upper_bound = 100\n",
    "    \n",
    "    sum_of_samples = 0\n",
    "    for i in range(num_samples):\n",
    "        x = generate_random(lower_bound, upper_bound)\n",
    "        sum_of_samples += f_of_x(x)\n",
    "    \n",
    "    return (upper_bound - lower_bound) * float(sum_of_samples/num_samples)"
   ]
  },
  {
   "cell_type": "code",
   "execution_count": 96,
   "metadata": {},
   "outputs": [
    {
     "data": {
      "text/plain": [
       "0.7143920080175342"
      ]
     },
     "execution_count": 96,
     "metadata": {},
     "output_type": "execute_result"
    }
   ],
   "source": [
    "monte_carlo(1000)"
   ]
  },
  {
   "cell_type": "code",
   "execution_count": null,
   "metadata": {},
   "outputs": [],
   "source": []
  }
 ],
 "metadata": {
  "kernelspec": {
   "display_name": "Python 3",
   "language": "python",
   "name": "python3"
  },
  "language_info": {
   "codemirror_mode": {
    "name": "ipython",
    "version": 3
   },
   "file_extension": ".py",
   "mimetype": "text/x-python",
   "name": "python",
   "nbconvert_exporter": "python",
   "pygments_lexer": "ipython3",
   "version": "3.7.3"
  }
 },
 "nbformat": 4,
 "nbformat_minor": 4
}
