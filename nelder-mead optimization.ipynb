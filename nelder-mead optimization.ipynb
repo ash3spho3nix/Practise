{
 "cells": [
  {
   "cell_type": "code",
   "execution_count": 147,
   "metadata": {},
   "outputs": [],
   "source": [
    "import math\n",
    "import numpy as np\n",
    "from matplotlib import pyplot as plot\n",
    "import random"
   ]
  },
  {
   "cell_type": "code",
   "execution_count": 148,
   "metadata": {},
   "outputs": [],
   "source": [
    "def generate_random(n1,n2):\n",
    "    if n1>n2:\n",
    "        print('first value should be smaller')\n",
    "        return 0\n",
    "    r = random.uniform(0,1)\n",
    "    return n1+(n2-n1)*r"
   ]
  },
  {
   "cell_type": "code",
   "execution_count": 738,
   "metadata": {},
   "outputs": [],
   "source": [
    "def f_of_x1(x):\n",
    "    # Rosenbrock function\n",
    "    s=0\n",
    "    for i in range(len(x)-1):\n",
    "        s+=100*(x[i+1]-(x[i]**2))**2+(x[i]-1)**2\n",
    "    return s\n",
    "\n",
    "def f_of_x2(x):\n",
    "    # Beale function\n",
    "    if len(x)!=2:\n",
    "        print('invalid length')\n",
    "        return            \n",
    "    return ((1.5-x[0]+x[0]*x[1])**2)+((2.25-x[0]+x[0]*(x[1]**2))**2)+((2.625-x[0]+x[0]*(x[1]**3))**2)\n",
    "\n",
    "def f_of_x3(x):\n",
    "    # Easom function\n",
    "    if len(x)!=2:\n",
    "        print('invalid length')\n",
    "        return            \n",
    "    return -math.cos(x[0])*math.cos(x[1])*math.exp(-(((x[0]-math.pi)**2)+((x[1]-math.pi)**2)))\n",
    "\n",
    "def f_of_x4(x):\n",
    "    # Booth function\n",
    "    if len(x)!=2:\n",
    "        print('invalid length')\n",
    "        return            \n",
    "    return ((x[0]+2*x[1]-7)**2)+((2*x[0]+x[1]-5)**2)\n",
    "\n",
    "def f_of_x5(x):\n",
    "    s = 0\n",
    "    for i in range(0,5):\n",
    "        s+=(x[i]-i)**2\n",
    "        return s"
   ]
  },
  {
   "cell_type": "code",
   "execution_count": 752,
   "metadata": {},
   "outputs": [],
   "source": [
    "def init_optimization(f_num):\n",
    "    if f_num==1:\n",
    "        hi = 100\n",
    "        lo = -100\n",
    "        dim = 4\n",
    "        f = f_of_x1\n",
    "        print('Rosenbrock Function in 4 dimension')\n",
    "        print('Global minimum f(x_i) = 0 for x_i in [-inf,inf]')\n",
    "    elif f_num==2:\n",
    "        hi = 5\n",
    "        lo = -5\n",
    "        dim = 2\n",
    "        f = f_of_x2\n",
    "        print('Beale function in 2 dimension')\n",
    "        print('Global minimum f(3,.5) = 0 for x,y in [-5,5]')\n",
    "    elif f_num==3:\n",
    "        hi = 10\n",
    "        lo = -10\n",
    "        dim = 2\n",
    "        f = f_of_x3\n",
    "        print('Eason Function in 2 dimension')\n",
    "        print('Global minimum f(pi,pi) = -1 for x,y in [-10,10]')\n",
    "    elif f_num==4:\n",
    "        hi = 10\n",
    "        lo = -10\n",
    "        dim = 2\n",
    "        f = f_of_x4\n",
    "        print('Booth Function in 2 dimension')\n",
    "        print('Global minimum f(1,3) = 0 for x,y in [-10,10]')\n",
    "    elif f_num==5:\n",
    "        hi = 100\n",
    "        lo = 0\n",
    "        dim = 5\n",
    "        f = f_of_x5\n",
    "        print('generated Function in 5 dimension')\n",
    "        print('Global minimum f(0,1,2,3,4) = 0 for x_i in [-10,10]')\n",
    "    else:\n",
    "        print('provide proper value for function to be optimized')\n",
    "    return hi,lo,dim, f"
   ]
  },
  {
   "cell_type": "code",
   "execution_count": 753,
   "metadata": {},
   "outputs": [],
   "source": [
    "#parameters for nelder_mead algorithm\n",
    "a_r = 1\n",
    "a_e = 2\n",
    "a_c = 0.5\n",
    "a_s = 0.5"
   ]
  },
  {
   "cell_type": "code",
   "execution_count": 764,
   "metadata": {},
   "outputs": [],
   "source": [
    "def generate_init(n,dim,lo,hi,f_of_x):\n",
    "    x = np.empty(shape=(n,dim),dtype='float') \n",
    "    f = np.empty(shape=(n,),dtype='float')\n",
    "    for i in range(n):\n",
    "        for j in range(dim):\n",
    "            x[i][j]=generate_random(lo,hi)\n",
    "        f[i] = f_of_x(x[i])\n",
    "    return x,f"
   ]
  },
  {
   "cell_type": "code",
   "execution_count": 769,
   "metadata": {},
   "outputs": [],
   "source": [
    "def centroid(x):\n",
    "    return (x.sum(axis=0))/len(x)\n",
    "# order \n",
    "def order(x,f):\n",
    "    sorted_idx = np.argsort(f,axis=0)\n",
    "    x_c = centroid(x)\n",
    "#    print('step 1: ordering')\n",
    "    return sorted_idx, x_c\n",
    "# reflection \n",
    "def reflect(x,x_c,idx):\n",
    "#    print('reflection')\n",
    "    return x_c + a_r*(x_c-x[idx[len(idx)-1]])\n",
    "#expansion\n",
    "def expand(x,x_c,x_r):\n",
    "#    print('expansion')\n",
    "    return x_c + a_e*(x_r-x_c)\n",
    "#contraction\n",
    "def contract(x,x_c,idx):\n",
    "#    print('contraction')\n",
    "    return x_c + a_c*(x[idx[len(idx)-1]]-x_c)\n",
    "#shrink\n",
    "def shrink(x,idx):\n",
    "#    print('shrinking')\n",
    "    for i in range(1,len(idx)-1):\n",
    "        x[i]=x[0]+a_s*(x[idx[i]]-x[0])\n",
    "    return x\n",
    "\n",
    "def f_val(x, f_of_x,n):\n",
    "    f = np.empty(shape=(n,),dtype='float')\n",
    "    for i in range(0,n):\n",
    "        f[i] = f_of_x(x[i])\n",
    "    return f"
   ]
  },
  {
   "cell_type": "code",
   "execution_count": 772,
   "metadata": {},
   "outputs": [],
   "source": [
    "def nelder_mead(N,n,dim,hi,lo, f_of_x,display_on):\n",
    "    x,f= generate_init(n,dim,lo,hi,f_of_x)\n",
    "    for itr in range(N):\n",
    "        r,c=x.shape\n",
    "        f = f_val(x,f_of_x,n)\n",
    "        idx, x_c = order(x,f)\n",
    "        if display_on==1:\n",
    "            if np.mod(itr,100)==0:\n",
    "                print('iteration :', itr,' cost function:', f[idx[0]])\n",
    "        f_best = f[idx[0]]    \n",
    "\n",
    "        x_r = reflect(x,x_c,idx)\n",
    "\n",
    "        if (f_of_x(x_r) >= f_of_x(x[idx[0]])) and (f_of_x(x_r) < f_of_x(x[idx[n-1]])):\n",
    "            x[idx[n-1]]=x_r\n",
    "            continue\n",
    "\n",
    "        elif f_of_x(x_r)< f_of_x(x[idx[0]]):\n",
    "            x_e = expand(x,x_c,x_r)\n",
    "            if f_of_x(x_e) < f_of_x(x_r):\n",
    "                x[idx[n-1]]=x_e\n",
    "                continue\n",
    "            else:\n",
    "                x[idx[n-1]]=x_r\n",
    "                continue\n",
    "\n",
    "        elif f_of_x(x_r)>= f_of_x(x[idx[n-2]]):\n",
    "            x_contract = contract(x,x_c,idx)\n",
    "            if f_of_x(x_contract) < f_of_x(x[idx[n-1]]):\n",
    "                x[idx[n-1]] = x_contract\n",
    "                continue\n",
    "        else:\n",
    "            x = shrink(x,idx)\n",
    "\n",
    "        idx, x_c = order(x,f)\n",
    "        f_best_e = f_of_x(x[idx[0]])\n",
    "        if abs(f_best_e-f_best)< 10**(-8) and f_best!=f_best_e:\n",
    "            print('optimization converged at iteration ',itr)\n",
    "            break\n",
    "    return x[idx[0]],f_of_x(x[idx[0]])"
   ]
  },
  {
   "cell_type": "code",
   "execution_count": 794,
   "metadata": {},
   "outputs": [
    {
     "name": "stdout",
     "output_type": "stream",
     "text": [
      "Beale function in 2 dimension\n",
      "Global minimum f(3,.5) = 0 for x,y in [-5,5]\n"
     ]
    },
    {
     "data": {
      "text/plain": [
       "(array([2.05121222, 0.30826812]), 0.5633888889030576)"
      ]
     },
     "execution_count": 794,
     "metadata": {},
     "output_type": "execute_result"
    }
   ],
   "source": [
    "n = 10\n",
    "N=10000\n",
    "f_num = 2\n",
    "display_on = 0\n",
    "hi,lo,dim,f_of_x = init_optimization(f_num)\n",
    "nelder_mead(N,n,dim,hi,lo, f_of_x, display_on)"
   ]
  }
 ],
 "metadata": {
  "kernelspec": {
   "display_name": "Python 3",
   "language": "python",
   "name": "python3"
  },
  "language_info": {
   "codemirror_mode": {
    "name": "ipython",
    "version": 3
   },
   "file_extension": ".py",
   "mimetype": "text/x-python",
   "name": "python",
   "nbconvert_exporter": "python",
   "pygments_lexer": "ipython3",
   "version": "3.7.3"
  }
 },
 "nbformat": 4,
 "nbformat_minor": 4
}
