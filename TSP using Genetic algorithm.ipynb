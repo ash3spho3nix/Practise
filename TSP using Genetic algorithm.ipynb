{
 "cells": [
  {
   "cell_type": "code",
   "execution_count": 5,
   "metadata": {},
   "outputs": [],
   "source": [
    "import math\n",
    "import numpy as np\n",
    "from numpy import random\n",
    "import pandas as pd\n",
    "from matplotlib import pyplot as plot\n",
    "#import random\n",
    "import time\n",
    "import pandas as pd"
   ]
  },
  {
   "cell_type": "code",
   "execution_count": 75,
   "metadata": {},
   "outputs": [],
   "source": [
    "def create_data_model():\n",
    "    \"\"\"Stores the data for the problem.\"\"\"\n",
    "    data = {}\n",
    "    data['distance_matrix'] = [\n",
    "        [0, 2451, 713, 1018, 1631, 1374, 2408, 213, 2571, 875, 1420, 2145, 1972],\n",
    "        [2451, 0, 1745, 1524, 831, 1240, 959, 2596, 403, 1589, 1374, 357, 579],\n",
    "        [713, 1745, 0, 355, 920, 803, 1737, 851, 1858, 262, 940, 1453, 1260],\n",
    "        [1018, 1524, 355, 0, 700, 862, 1395, 1123, 1584, 466, 1056, 1280, 987],\n",
    "        [1631, 831, 920, 700, 0, 663, 1021, 1769, 949, 796, 879, 586, 371],\n",
    "        [1374, 1240, 803, 862, 663, 0, 1681, 1551, 1765, 547, 225, 887, 999],\n",
    "        [2408, 959, 1737, 1395, 1021, 1681, 0, 2493, 678, 1724, 1891, 1114, 701],\n",
    "        [213, 2596, 851, 1123, 1769, 1551, 2493, 0, 2699, 1038, 1605, 2300, 2099],\n",
    "        [2571, 403, 1858, 1584, 949, 1765, 678, 2699, 0, 1744, 1645, 653, 600],\n",
    "        [875, 1589, 262, 466, 796, 547, 1724, 1038, 1744, 0, 679, 1272, 1162],\n",
    "        [1420, 1374, 940, 1056, 879, 225, 1891, 1605, 1645, 679, 0, 1017, 1200],\n",
    "        [2145, 357, 1453, 1280, 586, 887, 1114, 2300, 653, 1272, 1017, 0, 504],\n",
    "        [1972, 579, 1260, 987, 371, 999, 701, 2099, 600, 1162, 1200, 504, 0],\n",
    "    ]  # yapf: disable\n",
    "    data['num_vehicles'] = 1\n",
    "    data['depot'] = 0\n",
    "    return data"
   ]
  },
  {
   "cell_type": "code",
   "execution_count": 76,
   "metadata": {},
   "outputs": [],
   "source": [
    "data=create_data_model()"
   ]
  },
  {
   "cell_type": "code",
   "execution_count": 182,
   "metadata": {},
   "outputs": [],
   "source": [
    "def f_val_TSP(par,par_len,data):\n",
    "    N=par_len\n",
    "    M=int(np.size(par)/par_len)\n",
    "    dist = np.empty(shape=(M,))\n",
    "    if(M>1):\n",
    "        for i in range(0,M):\n",
    "            d=0\n",
    "            for j in range(1,N):\n",
    "                d += data['distance_matrix'][par[i][j]][par[i][j-1]]\n",
    "            dist[i]=d+data['distance_matrix'][0][par[i][0]]+data['distance_matrix'][par[i][N-1]][0]\n",
    "        return dist\n",
    "    else:\n",
    "        d=0\n",
    "        for j in range(1,N):\n",
    "            d += data['distance_matrix'][par[j]][par[j-1]]\n",
    "        return d+data['distance_matrix'][0][math.ceil(par[0])]+data['distance_matrix'][math.ceil(par[N-1])][0]"
   ]
  },
  {
   "cell_type": "code",
   "execution_count": 183,
   "metadata": {},
   "outputs": [],
   "source": [
    "def init_population(popsize,data):\n",
    "    l,m = np.shape(data['distance_matrix'])\n",
    "    pop = np.empty(shape=(popsize,l-1),dtype='int')\n",
    "    for i in range(popsize):\n",
    "        pop[i][:] = np.random.permutation(l-1)+1\n",
    "    return pop\n",
    "\n",
    "def select(cost, e_size):\n",
    "    re=[]\n",
    "    df = pd.DataFrame(np.array(cost),columns=[\"Index\",\"Fitness\"])\n",
    "    df['cumsum'] = df.Fitness.cumsum()\n",
    "    df['cum_perc'] = 100*df.cumsum/df.Fitness.sum()\n",
    "    for i in range(e_size):\n",
    "        res.append(cost[i][0])\n",
    "    for i in range(len(cost)-e_size):\n",
    "        pick = 100*random.random()\n",
    "        for i in range(len(cost)):\n",
    "            if pick <=df.iat[i,3]:\n",
    "                res.append(cost[i][0])\n",
    "                break\n",
    "    return res"
   ]
  },
  {
   "cell_type": "code",
   "execution_count": 184,
   "metadata": {},
   "outputs": [],
   "source": [
    "def selection(pop,M,keep):\n",
    "    \n",
    "    ma=np.empty(shape=(M,),dtype='int')\n",
    "    pa=np.empty(shape=(M,),dtype='int')\n",
    "    prob = np.flipud(range(keep)/np.sum(range(keep)))\n",
    "    odds1 = np.cumsum(prob)\n",
    "    odds = np.zeros(shape=len(odds1)+1)\n",
    "    odds[1::]=odds1[:]\n",
    "\n",
    "    pick1 = random.rand(M)\n",
    "    pick2 = random.rand(M)\n",
    "\n",
    "    for ic in range(M):\n",
    "        for idx in range(0,keep):\n",
    "                if pick1[ic]<=odds[idx] and pick1[ic]>odds[idx-1]:\n",
    "                    ma[ic] = idx -1\n",
    "                if pick2[ic]<=odds[idx] and pick2[ic]>odds[idx-1]:\n",
    "                    pa[ic] = idx -1\n",
    "    return ma,pa\n",
    "    \n",
    "def mating(ma,pa,keep,M,Nt,pop):\n",
    "    #single point crossover\n",
    "    ix =  np.arange(0, keep, 2)\n",
    "    xp = random.randint(1, Nt-1, M)\n",
    "\n",
    "    for i in range(len(ix)):\n",
    "        childP11 = []\n",
    "        childP12 = []\n",
    "        childP21 = []\n",
    "        childP22 = []\n",
    "        child1 = []\n",
    "        child2 =[]\n",
    "        for j in range(xp[i]):\n",
    "            childP11.append(pop[ma[i]][j])\n",
    "            childP21.append(pop[pa[i]][j])\n",
    "\n",
    "        childP12 = [item for item in pop[pa[i]] if item not in childP11]\n",
    "        child1 = childP11+childP12\n",
    "        childP22 = [item for item in pop[ma[i]] if item not in childP21]\n",
    "        child2 = childP21+childP22\n",
    "        pop[keep+ix[i]][:]= child1\n",
    "        pop[keep+ix[i]+1][:]= child2\n",
    "    return pop\n",
    "\n",
    "def mutation(pop,popsize,mutrate):\n",
    "    # Mutate the population\n",
    "    mutatedpop = pop\n",
    "    for i in range(1,popsize):\n",
    "        r = random.random()\n",
    "#        print(r)\n",
    "        if(r < mutrate):\n",
    "            mc1 = random.randint(1,l-2)\n",
    "            mc2 = random.randint(1,l-2)\n",
    "            a = pop[i][mc1]\n",
    "            pop[i][mc1]= pop[i][mc2]\n",
    "            pop[i][mc2] = a\n",
    "#            print('after mutation',pop[i])\n",
    "            mutatedpop[i]=pop[i]\n",
    "    return mutatedpop\n",
    "\n",
    "def repair(pop,popsize,l):\n",
    "    newpop = pop\n",
    "    a=np.ones(shape=(popsize,))\n",
    "    for i in range(1,popsize):\n",
    "        for j in range(1,popsize):\n",
    "            if (pop[i][:]==pop[j][:]).all() and i<j and a[j]!=0:\n",
    "                a[j]=0\n",
    "                newpop[j][:] = np.random.permutation(l-1)+1\n",
    "    return newpop"
   ]
  },
  {
   "cell_type": "code",
   "execution_count": 194,
   "metadata": {},
   "outputs": [],
   "source": [
    "newdata = {}\n",
    "num = 20\n",
    "newdata['distance_matrix']=np.zeros(shape=(num,num))\n",
    "x=np.empty(shape=(num,),dtype='int')\n",
    "y = np.empty(shape=(num,),dtype='int')\n",
    "for i in range(0,num):\n",
    "    x[i] = int(random.random()*200)\n",
    "    y[i] = int(random.random()*200)\n",
    "    for j in range(i):\n",
    "        newdata['distance_matrix'][i][j] = math.sqrt((x[i]-x[j])**2+(y[i]-y[j])**2)\n",
    "        newdata['distance_matrix'][j][i] = newdata['distance_matrix'][i][j] "
   ]
  },
  {
   "cell_type": "code",
   "execution_count": 195,
   "metadata": {},
   "outputs": [
    {
     "name": "stdout",
     "output_type": "stream",
     "text": [
      "_________________________________________\n",
      "___________Genetic algorithm_____________\n",
      "____________Vishal Sharma________________\n",
      "_________________________________________\n",
      "Local current time : Fri Feb  5 20:50:57 2021\n",
      "Solving for travelling salesman problem\n",
      "iteration :  0 , cost :  2025.5901638887456\n",
      "iteration :  500 , cost :  1083.4617060727721\n",
      "iteration :  1000 , cost :  1083.4617060727721\n",
      "iteration :  1500 , cost :  1083.4617060727721\n",
      "iteration :  2000 , cost :  1083.4617060727721\n",
      "iteration :  2500 , cost :  1083.4617060727721\n",
      "iteration :  3000 , cost :  1083.4617060727721\n",
      "iteration :  3500 , cost :  1083.4617060727721\n",
      "iteration :  4000 , cost :  1083.4617060727721\n",
      "iteration :  4500 , cost :  1083.4617060727721\n",
      "iteration :  5000 , cost :  1083.4617060727721\n",
      "iteration :  5500 , cost :  1083.4617060727721\n",
      "iteration :  6000 , cost :  1083.4617060727721\n",
      "iteration :  6500 , cost :  1083.4617060727721\n",
      "iteration :  7000 , cost :  1083.4617060727721\n",
      "iteration :  7500 , cost :  1083.4617060727721\n",
      "iteration :  8000 , cost :  1083.4617060727721\n",
      "iteration :  8500 , cost :  1083.4617060727721\n",
      "iteration :  9000 , cost :  1083.4617060727721\n",
      "iteration :  9500 , cost :  1083.4617060727721\n",
      "-----------------------------------\n",
      "final output :\n",
      "[ 0 11 16 12 15 17  4  5  8  2  3 14 10  1 13 19  7  9  6 18  0] 9999 1083.4617060727721\n",
      "elapsed time 0.08211858367919922\n",
      "____________________________________\n"
     ]
    }
   ],
   "source": [
    "tic = time.time()\n",
    "\n",
    "localtime = time.asctime( time.localtime(time.time()) )\n",
    "\n",
    "print('_________________________________________')\n",
    "print('___________Genetic algorithm_____________')\n",
    "print('____________Vishal Sharma________________')\n",
    "print('_________________________________________')\n",
    "print('Local current time :', localtime)\n",
    "print('Solving for travelling salesman problem')\n",
    "\n",
    "toc = time.time()\n",
    "npar=1 # number of optimization variables\n",
    "maxit=10000 #ax number of iterations\n",
    "mincost=-99999 # minimum cost\n",
    "#_______________________________________________________\n",
    "# III. GA parameters\n",
    "popsize=50 #set population size\n",
    "mutrate=0.5 #set mutation rate\n",
    "selection=0.2# fraction of population kept\n",
    "keep=math.floor(selection*popsize) # #population members \n",
    "# that survive\n",
    "#_______________________________________________________\n",
    "# Create the initial population\n",
    "itr=0 # generation counter\n",
    "# initialized\n",
    "data = newdata\n",
    "l,m = np.shape(data['distance_matrix'])\n",
    "Nt=l-1\n",
    "\n",
    "pop = init_population(popsize,data)\n",
    "cost=f_val_TSP(pop,m-1,data) # calculates population\n",
    "ind=np.argsort(cost,axis=0) # min cost in element 1\n",
    "cost=cost[ind]\n",
    "pop=pop[:][ind] # sorts population with\n",
    "# lowest cost first\n",
    "minc = []\n",
    "meanc = []\n",
    "minc.append(np.min(cost)) # minc contains min of\n",
    "# population\n",
    "meanc.append(np.mean(cost)) # meanc contains mean\n",
    "# of population\n",
    "M = math.ceil((popsize-keep)/2)-1\n",
    "\n",
    "p = np.zeros(shape=(maxit,l+1),dtype='int')\n",
    "\n",
    "for itr in range(maxit):\n",
    "    # Performs mating using single point crossover\n",
    "    ma=np.empty(shape=(M,),dtype='int')\n",
    "    pa=np.empty(shape=(M,),dtype='int')\n",
    "    \n",
    "    prob = np.flipud(range(keep)/np.sum(range(keep)))\n",
    "    odds1 = np.cumsum(prob)\n",
    "    odds = np.zeros(shape=len(odds1)+1)\n",
    "    odds[1::]=odds1[:]\n",
    "\n",
    "    pick1 = random.rand(M)\n",
    "    pick2 = random.rand(M)\n",
    "\n",
    "    for ic in range(M):\n",
    "        for idx in range(0,keep):\n",
    "                if pick1[ic]<=odds[idx] and pick1[ic]>odds[idx-1]:\n",
    "                    ma[ic] = idx -1\n",
    "                if pick2[ic]<=odds[idx] and pick2[ic]>odds[idx-1]:\n",
    "                    pa[ic] = idx -1\n",
    "\n",
    "    newpop = mating(ma,pa,keep,M,Nt,pop)\n",
    "    mutrate = mutrate+0.05*(itr/maxit)\n",
    "    mutatedpop = mutation(newpop,popsize,mutrate)\n",
    "    pop = mutatedpop\n",
    "    \n",
    "    cost=f_val_TSP(pop,m-1,data)\n",
    "    #_______________________________________________________\n",
    "    # Sort the costs and associated parameters\n",
    "    ind=np.argsort(cost,axis=0) # min cost in element 1\n",
    "    cost = cost[ind]\n",
    "    pop=pop[:][ind]\n",
    "    pop = repair(pop,popsize,l)\n",
    "    #_______________________________________________________\n",
    "    minc.append(np.min(cost))\n",
    "    meanc.append(np.mean(cost))\n",
    "    #_______________________________________________________\n",
    "    # Stopping criteria\n",
    "    if itr>maxit:\n",
    "        break\n",
    "\n",
    "    if itr%500==0:\n",
    "        print('iteration : ', str(itr), ', cost : ',str(cost[0]))    \n",
    "\n",
    "    for i in range(len(pop[0,:])):\n",
    "        p[itr][i+1]=pop[0][i]\n",
    "\n",
    "toc = time.time()\n",
    "print('-----------------------------------')\n",
    "print('final output :')\n",
    "p1 = np.zeros(shape=(l+1,),dtype='int')\n",
    "\n",
    "for i in range(len(pop[0,:])):\n",
    "    p1[i+1]=pop[0][i]\n",
    "print(p1,itr,cost[0])\n",
    "print('elapsed time',(toc-tic)/1000)\n",
    "print('____________________________________')"
   ]
  },
  {
   "cell_type": "code",
   "execution_count": null,
   "metadata": {},
   "outputs": [],
   "source": []
  },
  {
   "cell_type": "code",
   "execution_count": 196,
   "metadata": {},
   "outputs": [],
   "source": [
    "#[ 0  7  2  3  4 12  6  8  1 11 10  5  9  0]"
   ]
  },
  {
   "cell_type": "code",
   "execution_count": 197,
   "metadata": {},
   "outputs": [
    {
     "data": {
      "text/plain": [
       "(9999, [<matplotlib.lines.Line2D at 0x20a5b4d9ba8>])"
      ]
     },
     "execution_count": 197,
     "metadata": {},
     "output_type": "execute_result"
    },
    {
     "data": {
      "image/png": "[encoded data removed]",
      "text/plain": [
       "<Figure size 432x288 with 1 Axes>"
      ]
     },
     "metadata": {
      "needs_background": "light"
     },
     "output_type": "display_data"
    }
   ],
   "source": [
    "itr,plot.plot(x[p[maxit-1]],y[p[maxit-1]])"
   ]
  },
  {
   "cell_type": "code",
   "execution_count": 193,
   "metadata": {},
   "outputs": [
    {
     "data": {
      "text/plain": [
       "<matplotlib.collections.PathCollection at 0x20a5b4883c8>"
      ]
     },
     "execution_count": 193,
     "metadata": {},
     "output_type": "execute_result"
    },
    {
     "data": {
      "image/png": "[encoded data removed]",
      "text/plain": [
       "<Figure size 432x288 with 1 Axes>"
      ]
     },
     "metadata": {
      "needs_background": "light"
     },
     "output_type": "display_data"
    }
   ],
   "source": [
    "plot.scatter(x,y)"
   ]
  },
  {
   "cell_type": "code",
   "execution_count": null,
   "metadata": {},
   "outputs": [],
   "source": []
  }
 ],
 "metadata": {
  "kernelspec": {
   "display_name": "Python 3",
   "language": "python",
   "name": "python3"
  },
  "language_info": {
   "codemirror_mode": {
    "name": "ipython",
    "version": 3
   },
   "file_extension": ".py",
   "mimetype": "text/x-python",
   "name": "python",
   "nbconvert_exporter": "python",
   "pygments_lexer": "ipython3",
   "version": "3.7.3"
  }
 },
 "nbformat": 4,
 "nbformat_minor": 4
}
